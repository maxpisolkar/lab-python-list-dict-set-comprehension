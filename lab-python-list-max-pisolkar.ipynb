{
 "cells": [
  {
   "cell_type": "code",
   "execution_count": 36,
   "id": "083ecb10-b75c-425c-b02f-7ca2521478d7",
   "metadata": {},
   "outputs": [],
   "source": [
    "products = [\"t-shirt\", \"mug\", \"hat\", \"book\", \"keychain\"]\n"
   ]
  },
  {
   "cell_type": "code",
   "execution_count": 40,
   "id": "b2b8513a-0b04-451d-bdde-9853c06e38de",
   "metadata": {},
   "outputs": [
    {
     "name": "stdin",
     "output_type": "stream",
     "text": [
      "Enter quantity for apple:  1\n",
      "Enter quantity for banana:  2\n",
      "Enter quantity for orange:  3\n",
      "Enter quantity for bread:  4\n",
      "Enter quantity for milk:  5\n",
      "Enter the number of customer orders? 2\n",
      "Enter the name of a product that a customer wants to order:  2\n"
     ]
    },
    {
     "name": "stdout",
     "output_type": "stream",
     "text": [
      "Item not in stock, please choose another.\n"
     ]
    },
    {
     "name": "stdin",
     "output_type": "stream",
     "text": [
      "Enter the name of a product that a customer wants to order:  milk\n",
      "Enter the name of a product that a customer wants to order:  bread\n"
     ]
    },
    {
     "name": "stdout",
     "output_type": "stream",
     "text": [
      "milk inventory updated. Remaining: 4\n",
      "bread inventory updated. Remaining: 3\n",
      "Total number of products ordered: 2\n",
      "Total number of unique products ordered: 2\n",
      "Updated Inventory:\n",
      "apple: 1\n",
      "banana: 2\n",
      "orange: 3\n",
      "bread: 3\n",
      "milk: 4\n"
     ]
    },
    {
     "name": "stdin",
     "output_type": "stream",
     "text": [
      "Enter the price of milk:  1\n",
      "Enter the price of bread:  2\n"
     ]
    },
    {
     "name": "stdout",
     "output_type": "stream",
     "text": [
      "Total Price of Items: 3.0\n"
     ]
    }
   ],
   "source": [
    "# Global list of products\n",
    "products = [\"apple\", \"banana\", \"orange\", \"bread\", \"milk\"]\n",
    "\n",
    "def initialize_inventory(products):\n",
    "    return {\n",
    "        product: int(input(f\"Enter quantity for {product}: \"))\n",
    "        for product in products\n",
    "    }\n",
    "    \n",
    "def get_customer_orders():\n",
    "    customer_orders= []\n",
    "    number_orders = int(input(f\"Enter the number of customer orders?\").strip().lower())\n",
    "    while len(customer_orders) < number_orders:\n",
    "        name = str(input(\"Enter the name of a product that a customer wants to order: \").strip().lower())\n",
    "        if name in products:\n",
    "            customer_orders.append(name)\n",
    "        else:\n",
    "            print(\"Item not in stock, please choose another.\")\n",
    "    customer_orders = {item for item in customer_orders}\n",
    "\n",
    "    return customer_orders\n",
    "\n",
    "def update_inventory(customer_orders, inventory):\n",
    "    for item in customer_orders:\n",
    "        if item in inventory:\n",
    "            inventory[item] -= 1\n",
    "            print(f\"{item} inventory updated. Remaining: {inventory[item]}\")\n",
    "        else:\n",
    "            print(f\"{item} is not found in the inventory.\")\n",
    "    return inventory\n",
    "\n",
    "def calculate_order_statistics (customer_orders, products):\n",
    "    total_number_products= len(customer_orders)\n",
    "    percentage_ordered = (total_number_products / len(products)) * 100\n",
    "    return total_number_products, percentage_ordered\n",
    "\n",
    "def print_order_statistics(order_stats):\n",
    "    print(f\"Total number of products ordered: {order_stats[0]}\")\n",
    "    print(f\"Total number of unique products ordered: {order_stats[0]}\")\n",
    "\n",
    "def print_updated_inventory(inventory):\n",
    "    print(\"Updated Inventory:\")\n",
    "    print(\"\\n\".join([f\"{item}: {qty}\" for item, qty in inventory.items()]))\n",
    "\n",
    "def total_price(customer_orders):\n",
    "    total_price_of_items = sum([float(input(f\"Enter the price of {item}: \")) for item in customer_orders])\n",
    "    return print(f\"Total Price of Items: {total_price_of_items}\")\n",
    "\n",
    "inventory = initialize_inventory(products)\n",
    "customer_orders = get_customer_orders()\n",
    "updated_inventory = update_inventory(customer_orders, inventory)\n",
    "order_stats = calculate_order_statistics(customer_orders, products)\n",
    "print_order_statistics(order_stats)\n",
    "print_updated_inventory(updated_inventory)\n",
    "total_price(customer_orders)\n",
    "    "
   ]
  },
  {
   "cell_type": "code",
   "execution_count": null,
   "id": "25e9bd35-a51a-4090-be8b-cb09a62a46dd",
   "metadata": {},
   "outputs": [],
   "source": []
  },
  {
   "cell_type": "code",
   "execution_count": null,
   "id": "1528a688-452b-4cc2-afd7-b5042b8dfda7",
   "metadata": {},
   "outputs": [],
   "source": []
  }
 ],
 "metadata": {
  "kernelspec": {
   "display_name": "Python [conda env:base] *",
   "language": "python",
   "name": "conda-base-py"
  },
  "language_info": {
   "codemirror_mode": {
    "name": "ipython",
    "version": 3
   },
   "file_extension": ".py",
   "mimetype": "text/x-python",
   "name": "python",
   "nbconvert_exporter": "python",
   "pygments_lexer": "ipython3",
   "version": "3.12.7"
  }
 },
 "nbformat": 4,
 "nbformat_minor": 5
}
